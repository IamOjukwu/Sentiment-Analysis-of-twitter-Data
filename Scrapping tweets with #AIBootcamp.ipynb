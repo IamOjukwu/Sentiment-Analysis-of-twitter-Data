{
 "cells": [
  {
   "cell_type": "code",
   "execution_count": null,
   "metadata": {},
   "outputs": [],
   "source": []
  },
  {
   "cell_type": "code",
   "execution_count": 1,
   "metadata": {},
   "outputs": [
    {
     "ename": "ModuleNotFoundError",
     "evalue": "No module named 'credentials'",
     "output_type": "error",
     "traceback": [
      "\u001b[1;31m---------------------------------------------------------------------------\u001b[0m",
      "\u001b[1;31mModuleNotFoundError\u001b[0m                       Traceback (most recent call last)",
      "\u001b[1;32m<ipython-input-1-37c89e60726f>\u001b[0m in \u001b[0;36m<module>\u001b[1;34m\u001b[0m\n\u001b[0;32m      1\u001b[0m \u001b[1;32mimport\u001b[0m \u001b[0mtweepy\u001b[0m\u001b[1;33m\u001b[0m\u001b[1;33m\u001b[0m\u001b[0m\n\u001b[0;32m      2\u001b[0m \u001b[1;32mimport\u001b[0m \u001b[0mpandas\u001b[0m \u001b[1;32mas\u001b[0m \u001b[0mpd\u001b[0m\u001b[1;33m\u001b[0m\u001b[1;33m\u001b[0m\u001b[0m\n\u001b[1;32m----> 3\u001b[1;33m \u001b[1;32mimport\u001b[0m \u001b[0mcredentials\u001b[0m\u001b[1;33m\u001b[0m\u001b[1;33m\u001b[0m\u001b[0m\n\u001b[0m\u001b[0;32m      4\u001b[0m \u001b[1;33m\u001b[0m\u001b[0m\n\u001b[0;32m      5\u001b[0m \u001b[1;32mfrom\u001b[0m \u001b[0mtweepy\u001b[0m \u001b[1;32mimport\u001b[0m \u001b[0mapi\u001b[0m\u001b[1;33m\u001b[0m\u001b[1;33m\u001b[0m\u001b[0m\n",
      "\u001b[1;31mModuleNotFoundError\u001b[0m: No module named 'credentials'"
     ]
    }
   ],
   "source": [
    "import tweepy\n",
    "import pandas as pd\n",
    "import credentials\n",
    "\n",
    "from tweepy import api\n",
    "from tweepy import Cursor\n",
    "from tweepy import OAuthHandler"
   ]
  },
  {
   "cell_type": "code",
   "execution_count": null,
   "metadata": {},
   "outputs": [],
   "source": [
    "auth = OAuthHandler(credentials.consumer_key, credentials.consumer_secret)\n",
    "auth.set_access_token(credentials.access_token, credentials.access_token_secret)\n",
    "api = tweepy.API(auth, wait_on_rate_limit=True, wait_on_rate_limit_notify=True)"
   ]
  },
  {
   "cell_type": "code",
   "execution_count": null,
   "metadata": {},
   "outputs": [],
   "source": [
    "def get_tweets(listOfTweets, keyword, numOfTweets):\n",
    "    # Iterate through all tweets containing the given word, api search mode\n",
    "    for tweet in tweepy.Cursor(api.search, q=keyword, lang=\"en\").items(numOfTweets):\n",
    "        # Add tweets in this format\n",
    "        dict_ = {'Screen Name': tweet.user.screen_name,\n",
    "                'User Name': tweet.user.name,\n",
    "                'Tweet Created At': (tweet.created_at),\n",
    "                'Tweet Text': tweet.text,\n",
    "                'User Location': (tweet.user.location),\n",
    "                'Tweet Coordinates': (tweet.coordinates),\n",
    "                'Retweet Count': (tweet.retweet_count),\n",
    "                'Retweeted': (tweet.retweeted),\n",
    "                'Phone Type': (tweet.source),\n",
    "                'Favorite Count': (tweet.favorite_count),\n",
    "                'Favorited': (tweet.favorited),\n",
    "                'Replied': tweet.in_reply_to_status_id_str}\n",
    "\n",
    "        listOfTweets.append(dict_)   \n",
    "    return listOfTweets\n"
   ]
  },
  {
   "cell_type": "code",
   "execution_count": null,
   "metadata": {},
   "outputs": [],
   "source": [
    "data = get_tweets([], [\"#AIBootcamp\"], 1000)\n",
    "dazo=pd.DataFrame(data=data)\n",
    "frame.to_csv(\"dsnbootcamp.csv\")"
   ]
  }
 ],
 "metadata": {
  "kernelspec": {
   "display_name": "Python 3",
   "language": "python",
   "name": "python3"
  },
  "language_info": {
   "codemirror_mode": {
    "name": "ipython",
    "version": 3
   },
   "file_extension": ".py",
   "mimetype": "text/x-python",
   "name": "python",
   "nbconvert_exporter": "python",
   "pygments_lexer": "ipython3",
   "version": "3.7.3"
  }
 },
 "nbformat": 4,
 "nbformat_minor": 2
}
