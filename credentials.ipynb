{
 "cells": [
  {
   "cell_type": "code",
   "execution_count": null,
   "metadata": {},
   "outputs": [],
   "source": [
    "#You would need to have a developer account on twitter then apply of access to be given these details. they are personal.\n",
    "# search on google for more details.\n",
    "# i have DOC mine so you would not be able to use it\n",
    "\n",
    "consumer_key= 'CfVkO8Tmpyjvd0sy2lsxFc59ujURYhdzff k'\n",
    "consumer_secret= 'mZjDNj4wSbbFXG27oBHWLlBNG67PewWgiz0tOlcFkZh3xe7IuigesgbroyuM5rdR'\n",
    "access_token= '927577609059360769-iiyrgvrhuivfuhZWjCCb2YVsUYHJF8QhDVsBnPZRBSB4bGBe'\n",
    "access_token_secret= 'vFKoS7rGGDHkJ3k3nuheruiuDq8w29HrBTav8h6AZ4WqBdTbTiWaaYWlcjw'"
   ]
  }
 ],
 "metadata": {
  "kernelspec": {
   "display_name": "Python 3",
   "language": "python",
   "name": "python3"
  },
  "language_info": {
   "codemirror_mode": {
    "name": "ipython",
    "version": 3
   },
   "file_extension": ".py",
   "mimetype": "text/x-python",
   "name": "python",
   "nbconvert_exporter": "python",
   "pygments_lexer": "ipython3",
   "version": "3.7.3"
  }
 },
 "nbformat": 4,
 "nbformat_minor": 2
}
